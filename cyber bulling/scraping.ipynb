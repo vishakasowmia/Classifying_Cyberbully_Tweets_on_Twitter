{
  "cells": [
    {
      "cell_type": "markdown",
      "metadata": {
        "id": "xJJAIc1HuyMF"
      },
      "source": [
        "**Installing `snscrape` to scrape data from social media platforms.\n",
        "In this case, we will use it to scrape data (tweets) from Twitter.**"
      ]
    },
    {
      "cell_type": "code",
      "execution_count": null,
      "metadata": {
        "colab": {
          "base_uri": "https://localhost:8080/"
        },
        "id": "rzq_Ssh4wKb0",
        "outputId": "f8aa4109-9b33-41ef-b2d6-c390c2875fd2"
      },
      "outputs": [
        {
          "name": "stdout",
          "output_type": "stream",
          "text": [
            "Looking in indexes: https://pypi.org/simple, https://us-python.pkg.dev/colab-wheels/public/simple/\n",
            "Requirement already satisfied: tweepy in /usr/local/lib/python3.9/dist-packages (4.13.0)\n",
            "Requirement already satisfied: oauthlib<4,>=3.2.0 in /usr/local/lib/python3.9/dist-packages (from tweepy) (3.2.2)\n",
            "Requirement already satisfied: requests<3,>=2.27.0 in /usr/local/lib/python3.9/dist-packages (from tweepy) (2.27.1)\n",
            "Requirement already satisfied: requests-oauthlib<2,>=1.2.0 in /usr/local/lib/python3.9/dist-packages (from tweepy) (1.3.1)\n",
            "Requirement already satisfied: certifi>=2017.4.17 in /usr/local/lib/python3.9/dist-packages (from requests<3,>=2.27.0->tweepy) (2022.12.7)\n",
            "Requirement already satisfied: urllib3<1.27,>=1.21.1 in /usr/local/lib/python3.9/dist-packages (from requests<3,>=2.27.0->tweepy) (1.26.15)\n",
            "Requirement already satisfied: charset-normalizer~=2.0.0 in /usr/local/lib/python3.9/dist-packages (from requests<3,>=2.27.0->tweepy) (2.0.12)\n",
            "Requirement already satisfied: idna<4,>=2.5 in /usr/local/lib/python3.9/dist-packages (from requests<3,>=2.27.0->tweepy) (3.4)\n"
          ]
        }
      ],
      "source": [
        "# installing tweepy\n",
        "\n",
        "!pip install tweepy"
      ]
    },
    {
      "cell_type": "code",
      "execution_count": null,
      "metadata": {
        "id": "g5f7TOZ2wKeb"
      },
      "outputs": [],
      "source": [
        "import tweepy\n",
        "import pandas as pd"
      ]
    },
    {
      "cell_type": "code",
      "execution_count": null,
      "metadata": {
        "id": "tS-SKl9awKg7"
      },
      "outputs": [],
      "source": [
        "# twitter API keys and tokens\n",
        "\n",
        "api_key = \"gWeXqLSHSOhEiM7fvBMHfUDnF\"\n",
        "api_key_secret = \"RoqIv2hpOi4OAxXWram0Qm5xVtR9JdFQiAS9bkojLOcyaNLxW4\"\n",
        "\n",
        "access_token = \"1422115490722246656-qlEG7zEujnVaimkHztqBERPT31Eyby\"\n",
        "access_token_secret = \"EVx2JxCL31yU94jc7IcaRdWG8o2Bps4wKrbtFoxPIPfu2\""
      ]
    },
    {
      "cell_type": "code",
      "execution_count": null,
      "metadata": {
        "id": "Mc6Jj5LgwKj2"
      },
      "outputs": [],
      "source": [
        "# authorizing the tokens to pull out tweets from Twitter\n",
        "\n",
        "auth = tweepy.OAuthHandler(api_key, api_key_secret)\n",
        "\n",
        "auth.set_access_token(access_token, access_token_secret)"
      ]
    },
    {
      "cell_type": "code",
      "execution_count": null,
      "metadata": {
        "id": "B5aqj_3cwKl3"
      },
      "outputs": [],
      "source": [
        "api = tweepy.API(auth)"
      ]
    },
    {
      "cell_type": "code",
      "execution_count": null,
      "metadata": {
        "id": "RQ1uuiPgwKoz"
      },
      "outputs": [],
      "source": [
        "query_list = [\"#StopBullying\", \"#CyberStalking\", \"#Harrasment\", \"#BodyShaming\", \"#StopBodyShaming\", \"#Racist\", \"#AntiBullying\", \"CyberBullying\", \"#Trolling\"]"
      ]
    },
    {
      "cell_type": "code",
      "execution_count": null,
      "metadata": {
        "id": "DaJqtvg0J6Vn"
      },
      "outputs": [],
      "source": [
        "for tags in query_list:\n",
        "  tweets = tweepy.Cursor(api.search_tweets,\n",
        "                          tags, tweet_mode = 'extended').items(50000)\n"
      ]
    },
    {
      "cell_type": "code",
      "execution_count": null,
      "metadata": {
        "id": "mXqFP4tpzfPU"
      },
      "outputs": [],
      "source": [
        "tweet_list = []\n",
        "\n",
        "for tweet in tweets:\n",
        "  text = tweet._json[\"full_text\"]\n",
        "\n",
        "  refined_tweet = {'tweets' : text,\n",
        "                   'retweet_count' : tweet.retweet_count}\n",
        "\n",
        "  tweet_list.append(refined_tweet)\n",
        "  #print(text)"
      ]
    },
    {
      "cell_type": "code",
      "execution_count": null,
      "metadata": {
        "colab": {
          "base_uri": "https://localhost:8080/"
        },
        "id": "rjUYdHnyEhE2",
        "outputId": "c1ffcde5-f519-4972-b0ec-a6f99b41075d"
      },
      "outputs": [
        {
          "name": "stdout",
          "output_type": "stream",
          "text": [
            "Mounted at /content/gdrive\n"
          ]
        }
      ],
      "source": [
        "from google.colab import drive\n",
        "drive.mount(\"/content/gdrive\")"
      ]
    },
    {
      "cell_type": "code",
      "execution_count": null,
      "metadata": {
        "id": "bGoYrgO6EDiM"
      },
      "outputs": [],
      "source": [
        "df = pd.DataFrame(tweet_list)"
      ]
    },
    {
      "cell_type": "markdown",
      "metadata": {
        "id": "oxkKIXx-E3tb"
      },
      "source": [
        "After the tweets are retrieved, we store it into .csv file named as all_tweets.csv."
      ]
    },
    {
      "cell_type": "code",
      "execution_count": null,
      "metadata": {
        "id": "uxbWF_6WErfj"
      },
      "outputs": [],
      "source": [
        "#df.to_csv('/content/gdrive/My Drive/all_tweets.csv', index = False)"
      ]
    },
    {
      "cell_type": "code",
      "execution_count": null,
      "metadata": {
        "colab": {
          "base_uri": "https://localhost:8080/",
          "height": 206
        },
        "id": "-XnlRsL8FBPT",
        "outputId": "76f1e071-c9b5-49e1-e9bb-4dabaa8867a0"
      },
      "outputs": [
        {
          "data": {
            "text/html": [
              "\n",
              "  <div id=\"df-7484fc7c-f995-43ae-98f8-5676ad4d6185\">\n",
              "    <div class=\"colab-df-container\">\n",
              "      <div>\n",
              "<style scoped>\n",
              "    .dataframe tbody tr th:only-of-type {\n",
              "        vertical-align: middle;\n",
              "    }\n",
              "\n",
              "    .dataframe tbody tr th {\n",
              "        vertical-align: top;\n",
              "    }\n",
              "\n",
              "    .dataframe thead th {\n",
              "        text-align: right;\n",
              "    }\n",
              "</style>\n",
              "<table border=\"1\" class=\"dataframe\">\n",
              "  <thead>\n",
              "    <tr style=\"text-align: right;\">\n",
              "      <th></th>\n",
              "      <th>tweets</th>\n",
              "      <th>retweet_count</th>\n",
              "    </tr>\n",
              "  </thead>\n",
              "  <tbody>\n",
              "    <tr>\n",
              "      <th>0</th>\n",
              "      <td>The 22-year-old's choice of outfit did not go ...</td>\n",
              "      <td>0</td>\n",
              "    </tr>\n",
              "    <tr>\n",
              "      <th>1</th>\n",
              "      <td>🔥Comin' in HOT!!🔥 Our \"Hydra Trolling Lure\" is...</td>\n",
              "      <td>0</td>\n",
              "    </tr>\n",
              "    <tr>\n",
              "      <th>2</th>\n",
              "      <td>This guy who looks like a guy from a horror mo...</td>\n",
              "      <td>0</td>\n",
              "    </tr>\n",
              "    <tr>\n",
              "      <th>3</th>\n",
              "      <td>@FreshEquinox At this point, you are just #tro...</td>\n",
              "      <td>0</td>\n",
              "    </tr>\n",
              "    <tr>\n",
              "      <th>4</th>\n",
              "      <td>RT @mmtchi: Comment ces #cybertroupes, financé...</td>\n",
              "      <td>20</td>\n",
              "    </tr>\n",
              "  </tbody>\n",
              "</table>\n",
              "</div>\n",
              "      <button class=\"colab-df-convert\" onclick=\"convertToInteractive('df-7484fc7c-f995-43ae-98f8-5676ad4d6185')\"\n",
              "              title=\"Convert this dataframe to an interactive table.\"\n",
              "              style=\"display:none;\">\n",
              "        \n",
              "  <svg xmlns=\"http://www.w3.org/2000/svg\" height=\"24px\"viewBox=\"0 0 24 24\"\n",
              "       width=\"24px\">\n",
              "    <path d=\"M0 0h24v24H0V0z\" fill=\"none\"/>\n",
              "    <path d=\"M18.56 5.44l.94 2.06.94-2.06 2.06-.94-2.06-.94-.94-2.06-.94 2.06-2.06.94zm-11 1L8.5 8.5l.94-2.06 2.06-.94-2.06-.94L8.5 2.5l-.94 2.06-2.06.94zm10 10l.94 2.06.94-2.06 2.06-.94-2.06-.94-.94-2.06-.94 2.06-2.06.94z\"/><path d=\"M17.41 7.96l-1.37-1.37c-.4-.4-.92-.59-1.43-.59-.52 0-1.04.2-1.43.59L10.3 9.45l-7.72 7.72c-.78.78-.78 2.05 0 2.83L4 21.41c.39.39.9.59 1.41.59.51 0 1.02-.2 1.41-.59l7.78-7.78 2.81-2.81c.8-.78.8-2.07 0-2.86zM5.41 20L4 18.59l7.72-7.72 1.47 1.35L5.41 20z\"/>\n",
              "  </svg>\n",
              "      </button>\n",
              "      \n",
              "  <style>\n",
              "    .colab-df-container {\n",
              "      display:flex;\n",
              "      flex-wrap:wrap;\n",
              "      gap: 12px;\n",
              "    }\n",
              "\n",
              "    .colab-df-convert {\n",
              "      background-color: #E8F0FE;\n",
              "      border: none;\n",
              "      border-radius: 50%;\n",
              "      cursor: pointer;\n",
              "      display: none;\n",
              "      fill: #1967D2;\n",
              "      height: 32px;\n",
              "      padding: 0 0 0 0;\n",
              "      width: 32px;\n",
              "    }\n",
              "\n",
              "    .colab-df-convert:hover {\n",
              "      background-color: #E2EBFA;\n",
              "      box-shadow: 0px 1px 2px rgba(60, 64, 67, 0.3), 0px 1px 3px 1px rgba(60, 64, 67, 0.15);\n",
              "      fill: #174EA6;\n",
              "    }\n",
              "\n",
              "    [theme=dark] .colab-df-convert {\n",
              "      background-color: #3B4455;\n",
              "      fill: #D2E3FC;\n",
              "    }\n",
              "\n",
              "    [theme=dark] .colab-df-convert:hover {\n",
              "      background-color: #434B5C;\n",
              "      box-shadow: 0px 1px 3px 1px rgba(0, 0, 0, 0.15);\n",
              "      filter: drop-shadow(0px 1px 2px rgba(0, 0, 0, 0.3));\n",
              "      fill: #FFFFFF;\n",
              "    }\n",
              "  </style>\n",
              "\n",
              "      <script>\n",
              "        const buttonEl =\n",
              "          document.querySelector('#df-7484fc7c-f995-43ae-98f8-5676ad4d6185 button.colab-df-convert');\n",
              "        buttonEl.style.display =\n",
              "          google.colab.kernel.accessAllowed ? 'block' : 'none';\n",
              "\n",
              "        async function convertToInteractive(key) {\n",
              "          const element = document.querySelector('#df-7484fc7c-f995-43ae-98f8-5676ad4d6185');\n",
              "          const dataTable =\n",
              "            await google.colab.kernel.invokeFunction('convertToInteractive',\n",
              "                                                     [key], {});\n",
              "          if (!dataTable) return;\n",
              "\n",
              "          const docLinkHtml = 'Like what you see? Visit the ' +\n",
              "            '<a target=\"_blank\" href=https://colab.research.google.com/notebooks/data_table.ipynb>data table notebook</a>'\n",
              "            + ' to learn more about interactive tables.';\n",
              "          element.innerHTML = '';\n",
              "          dataTable['output_type'] = 'display_data';\n",
              "          await google.colab.output.renderOutput(dataTable, element);\n",
              "          const docLink = document.createElement('div');\n",
              "          docLink.innerHTML = docLinkHtml;\n",
              "          element.appendChild(docLink);\n",
              "        }\n",
              "      </script>\n",
              "    </div>\n",
              "  </div>\n",
              "  "
            ],
            "text/plain": [
              "                                              tweets  retweet_count\n",
              "0  The 22-year-old's choice of outfit did not go ...              0\n",
              "1  🔥Comin' in HOT!!🔥 Our \"Hydra Trolling Lure\" is...              0\n",
              "2  This guy who looks like a guy from a horror mo...              0\n",
              "3  @FreshEquinox At this point, you are just #tro...              0\n",
              "4  RT @mmtchi: Comment ces #cybertroupes, financé...             20"
            ]
          },
          "execution_count": 12,
          "metadata": {},
          "output_type": "execute_result"
        }
      ],
      "source": [
        "df.head()"
      ]
    },
    {
      "cell_type": "markdown",
      "metadata": {
        "id": "KUR_GxpxRqAz"
      },
      "source": [
        "# **some important comments:**\n",
        "\n",
        "# 1. Try changing into english first. I've tried doing it, it didn't work properly. If you can, then please make necessary changes to this colab file.\n",
        "\n",
        "# 2. Or do the vice versa. Preprocess it and then change."
      ]
    },
    {
      "cell_type": "markdown",
      "metadata": {
        "id": "fxLWMQaunHn1"
      },
      "source": [
        "## **Preprocessing**"
      ]
    },
    {
      "cell_type": "markdown",
      "metadata": {
        "id": "iUSWBG8owTLQ"
      },
      "source": [
        "Importing the `nltk` library to perform some of the following tasks for the column `Tweet`:\n",
        "\n",
        "1. **Tokenization**: To split the text into words or sentences.\n",
        "2. **Converting all the text into lowercase**.\n",
        "3. **Removing Stop Words**: To remove words such as 'the', 'a',, etc. which do not carry much meaning.\n",
        "4. **Stemming/Lemmatizatizing**: To reduce words to their root form.\n",
        "5. **Removing special characters**\n",
        "6. **Removing numbers and punctuations**"
      ]
    },
    {
      "cell_type": "code",
      "execution_count": null,
      "metadata": {
        "colab": {
          "base_uri": "https://localhost:8080/"
        },
        "id": "fCXKFeF6m0d-",
        "outputId": "57bb6356-8ecc-4394-e308-b29d49aae450"
      },
      "outputs": [
        {
          "name": "stdout",
          "output_type": "stream",
          "text": [
            "Looking in indexes: https://pypi.org/simple, https://us-python.pkg.dev/colab-wheels/public/simple/\n",
            "Requirement already satisfied: nltk in /usr/local/lib/python3.9/dist-packages (3.8.1)\n",
            "Requirement already satisfied: click in /usr/local/lib/python3.9/dist-packages (from nltk) (8.1.3)\n",
            "Requirement already satisfied: tqdm in /usr/local/lib/python3.9/dist-packages (from nltk) (4.65.0)\n",
            "Requirement already satisfied: regex>=2021.8.3 in /usr/local/lib/python3.9/dist-packages (from nltk) (2022.10.31)\n",
            "Requirement already satisfied: joblib in /usr/local/lib/python3.9/dist-packages (from nltk) (1.2.0)\n"
          ]
        }
      ],
      "source": [
        "!pip install nltk\n",
        "\n",
        "import nltk\n",
        "import re"
      ]
    },
    {
      "cell_type": "code",
      "execution_count": null,
      "metadata": {
        "colab": {
          "base_uri": "https://localhost:8080/"
        },
        "id": "wXg4BIS6oJiI",
        "outputId": "d350de4e-ffcc-4f8f-bd2a-14e0c39f29dd"
      },
      "outputs": [
        {
          "name": "stderr",
          "output_type": "stream",
          "text": [
            "[nltk_data] Downloading package stopwords to /root/nltk_data...\n",
            "[nltk_data]   Unzipping corpora/stopwords.zip.\n",
            "[nltk_data] Downloading package punkt to /root/nltk_data...\n",
            "[nltk_data]   Unzipping tokenizers/punkt.zip.\n"
          ]
        },
        {
          "data": {
            "text/plain": [
              "True"
            ]
          },
          "execution_count": 128,
          "metadata": {},
          "output_type": "execute_result"
        }
      ],
      "source": [
        "nltk.download('stopwords')\n",
        "nltk.download('punkt')\n",
        "\n",
        "#nltk.download()"
      ]
    },
    {
      "cell_type": "code",
      "execution_count": null,
      "metadata": {
        "colab": {
          "base_uri": "https://localhost:8080/"
        },
        "id": "erNrVNxwqp7z",
        "outputId": "ed68ec5f-1150-4dd0-be1a-fe4301f83a1b"
      },
      "outputs": [
        {
          "name": "stdout",
          "output_type": "stream",
          "text": [
            "Looking in indexes: https://pypi.org/simple, https://us-python.pkg.dev/colab-wheels/public/simple/\n",
            "Requirement already satisfied: wordcloud in /usr/local/lib/python3.9/dist-packages (1.8.2.2)\n",
            "Requirement already satisfied: matplotlib in /usr/local/lib/python3.9/dist-packages (from wordcloud) (3.7.1)\n",
            "Requirement already satisfied: pillow in /usr/local/lib/python3.9/dist-packages (from wordcloud) (8.4.0)\n",
            "Requirement already satisfied: numpy>=1.6.1 in /usr/local/lib/python3.9/dist-packages (from wordcloud) (1.22.4)\n",
            "Requirement already satisfied: fonttools>=4.22.0 in /usr/local/lib/python3.9/dist-packages (from matplotlib->wordcloud) (4.39.3)\n",
            "Requirement already satisfied: pyparsing>=2.3.1 in /usr/local/lib/python3.9/dist-packages (from matplotlib->wordcloud) (3.0.9)\n",
            "Requirement already satisfied: contourpy>=1.0.1 in /usr/local/lib/python3.9/dist-packages (from matplotlib->wordcloud) (1.0.7)\n",
            "Requirement already satisfied: importlib-resources>=3.2.0 in /usr/local/lib/python3.9/dist-packages (from matplotlib->wordcloud) (5.12.0)\n",
            "Requirement already satisfied: cycler>=0.10 in /usr/local/lib/python3.9/dist-packages (from matplotlib->wordcloud) (0.11.0)\n",
            "Requirement already satisfied: python-dateutil>=2.7 in /usr/local/lib/python3.9/dist-packages (from matplotlib->wordcloud) (2.8.2)\n",
            "Requirement already satisfied: packaging>=20.0 in /usr/local/lib/python3.9/dist-packages (from matplotlib->wordcloud) (23.0)\n",
            "Requirement already satisfied: kiwisolver>=1.0.1 in /usr/local/lib/python3.9/dist-packages (from matplotlib->wordcloud) (1.4.4)\n",
            "Requirement already satisfied: zipp>=3.1.0 in /usr/local/lib/python3.9/dist-packages (from importlib-resources>=3.2.0->matplotlib->wordcloud) (3.15.0)\n",
            "Requirement already satisfied: six>=1.5 in /usr/local/lib/python3.9/dist-packages (from python-dateutil>=2.7->matplotlib->wordcloud) (1.16.0)\n"
          ]
        }
      ],
      "source": [
        "pip install wordcloud"
      ]
    },
    {
      "cell_type": "code",
      "execution_count": null,
      "metadata": {
        "id": "2Ty2Ji7EnOc5"
      },
      "outputs": [],
      "source": [
        "# definig a function to perform all the tasks mentioned above:\n",
        "\n",
        "def preprocessing_tweet(tweet):\n",
        "\n",
        "  # coverting text to lowercase\n",
        "\n",
        "  tweet = tweet.lower()\n",
        "\n",
        "  # tokenizing the sentences\n",
        "\n",
        "  tokens = nltk.word_tokenize(tweet)\n",
        "\n",
        "  # removing the stop words\n",
        "\n",
        "  stop_words = set(nltk.corpus.stopwords.words('english'))\n",
        "  filtered_tokens = [token for token in tokens if token not in stop_words]\n",
        "\n",
        "  # Stemming the words to reduce them to root form\n",
        "\n",
        "  porter = nltk.PorterStemmer()\n",
        "  stemmed_tokens = [porter.stem(token) for token in filtered_tokens]\n",
        "\n",
        "  # joining the preprocessed text\n",
        "\n",
        "  processed_tweet = ' '.join(re.sub(\"[^a-zA-Z]\", \" \", token) for token in stemmed_tokens)\n",
        "\n",
        "  return processed_tweet"
      ]
    },
    {
      "cell_type": "code",
      "execution_count": null,
      "metadata": {
        "colab": {
          "base_uri": "https://localhost:8080/"
        },
        "id": "PDU3i6Vcoazc",
        "outputId": "a022b0ae-b25f-45ec-eea6-78ecce5da232"
      },
      "outputs": [
        {
          "name": "stdout",
          "output_type": "stream",
          "text": [
            "0       comin   hot          hydra troll lure    read...\n",
            "1      guy look like guy horror movi chase lot pl don...\n",
            "2        freshequinox point     troll   pleas go   tr...\n",
            "3      rt   mmtchi   comment ce   cybertroup   financ...\n",
            "4        tremiss   bigmonlik read next tweet post rig...\n",
            "                             ...                        \n",
            "451    alway mess thing infront crush     bodi impost...\n",
            "452    rt   teateekayi   troll kill twitch streamer  ...\n",
            "453    m  easter sale buy   flutter spoon get   free ...\n",
            "454       fish get hot     find right tackl need http...\n",
            "455    rt   cunningcastpod   lifecycl femal politicia...\n",
            "Name: processed_tweets, Length: 456, dtype: object\n"
          ]
        }
      ],
      "source": [
        "# storing the preprocessed tweets\n",
        "\n",
        "df['processed_tweets'] = df['tweets'].apply(preprocessing_tweet)\n",
        "\n",
        "print(df['processed_tweets'])"
      ]
    },
    {
      "cell_type": "code",
      "execution_count": null,
      "metadata": {
        "id": "_wwqTXDb0RJe"
      },
      "outputs": [],
      "source": [
        "df['processed_tweets'].to_csv('/content/gdrive/My Drive/all_lang_processed_tweets.csv', index = False)"
      ]
    },
    {
      "cell_type": "markdown",
      "metadata": {
        "id": "EVugTeuuRjk7"
      },
      "source": [
        "## **Translate the tweets in english**"
      ]
    },
    {
      "cell_type": "code",
      "execution_count": null,
      "metadata": {
        "colab": {
          "base_uri": "https://localhost:8080/"
        },
        "id": "kU9aKhAAP2oi",
        "outputId": "51f5133a-c90b-401a-806a-b19b04d6183d"
      },
      "outputs": [
        {
          "name": "stdout",
          "output_type": "stream",
          "text": [
            "Looking in indexes: https://pypi.org/simple, https://us-python.pkg.dev/colab-wheels/public/simple/\n",
            "Requirement already satisfied: googletrans==4.0.0-rc1 in /usr/local/lib/python3.9/dist-packages (4.0.0rc1)\n",
            "Requirement already satisfied: httpx==0.13.3 in /usr/local/lib/python3.9/dist-packages (from googletrans==4.0.0-rc1) (0.13.3)\n",
            "Requirement already satisfied: httpcore==0.9.* in /usr/local/lib/python3.9/dist-packages (from httpx==0.13.3->googletrans==4.0.0-rc1) (0.9.1)\n",
            "Requirement already satisfied: rfc3986<2,>=1.3 in /usr/local/lib/python3.9/dist-packages (from httpx==0.13.3->googletrans==4.0.0-rc1) (1.5.0)\n",
            "Requirement already satisfied: certifi in /usr/local/lib/python3.9/dist-packages (from httpx==0.13.3->googletrans==4.0.0-rc1) (2022.12.7)\n",
            "Requirement already satisfied: hstspreload in /usr/local/lib/python3.9/dist-packages (from httpx==0.13.3->googletrans==4.0.0-rc1) (2023.1.1)\n",
            "Requirement already satisfied: chardet==3.* in /usr/local/lib/python3.9/dist-packages (from httpx==0.13.3->googletrans==4.0.0-rc1) (3.0.4)\n",
            "Requirement already satisfied: idna==2.* in /usr/local/lib/python3.9/dist-packages (from httpx==0.13.3->googletrans==4.0.0-rc1) (2.10)\n",
            "Requirement already satisfied: sniffio in /usr/local/lib/python3.9/dist-packages (from httpx==0.13.3->googletrans==4.0.0-rc1) (1.3.0)\n",
            "Requirement already satisfied: h2==3.* in /usr/local/lib/python3.9/dist-packages (from httpcore==0.9.*->httpx==0.13.3->googletrans==4.0.0-rc1) (3.2.0)\n",
            "Requirement already satisfied: h11<0.10,>=0.8 in /usr/local/lib/python3.9/dist-packages (from httpcore==0.9.*->httpx==0.13.3->googletrans==4.0.0-rc1) (0.9.0)\n",
            "Requirement already satisfied: hyperframe<6,>=5.2.0 in /usr/local/lib/python3.9/dist-packages (from h2==3.*->httpcore==0.9.*->httpx==0.13.3->googletrans==4.0.0-rc1) (5.2.0)\n",
            "Requirement already satisfied: hpack<4,>=3.0 in /usr/local/lib/python3.9/dist-packages (from h2==3.*->httpcore==0.9.*->httpx==0.13.3->googletrans==4.0.0-rc1) (3.0.0)\n"
          ]
        }
      ],
      "source": [
        "!pip install googletrans==4.0.0-rc1"
      ]
    },
    {
      "cell_type": "code",
      "execution_count": null,
      "metadata": {
        "id": "aBbaRBMTQJzy"
      },
      "outputs": [],
      "source": [
        "import googletrans"
      ]
    },
    {
      "cell_type": "code",
      "execution_count": null,
      "metadata": {
        "id": "pYZpJRpSQLdB"
      },
      "outputs": [],
      "source": [
        "from googletrans import Translator\n",
        "\n",
        "translator = Translator()"
      ]
    },
    {
      "cell_type": "code",
      "execution_count": null,
      "metadata": {
        "colab": {
          "base_uri": "https://localhost:8080/",
          "height": 990
        },
        "id": "Da9AAOmpQOey",
        "outputId": "abec68d0-7ce6-44c4-b300-577b190b5bb0"
      },
      "outputs": [
        {
          "data": {
            "text/html": [
              "\n",
              "  <div id=\"df-395b8f67-5978-46df-9b1a-ef4c331dae73\">\n",
              "    <div class=\"colab-df-container\">\n",
              "      <div>\n",
              "<style scoped>\n",
              "    .dataframe tbody tr th:only-of-type {\n",
              "        vertical-align: middle;\n",
              "    }\n",
              "\n",
              "    .dataframe tbody tr th {\n",
              "        vertical-align: top;\n",
              "    }\n",
              "\n",
              "    .dataframe thead th {\n",
              "        text-align: right;\n",
              "    }\n",
              "</style>\n",
              "<table border=\"1\" class=\"dataframe\">\n",
              "  <thead>\n",
              "    <tr style=\"text-align: right;\">\n",
              "      <th></th>\n",
              "      <th>tweets</th>\n",
              "      <th>retweet_count</th>\n",
              "      <th>processed_tweets</th>\n",
              "      <th>English</th>\n",
              "    </tr>\n",
              "  </thead>\n",
              "  <tbody>\n",
              "    <tr>\n",
              "      <th>0</th>\n",
              "      <td>🔥Comin' in HOT!!🔥 Our \"Hydra Trolling Lure\" is...</td>\n",
              "      <td>0</td>\n",
              "      <td>comin   hot          hydra troll lure    read...</td>\n",
              "      <td>comin   hot          hydra troll lure    readi...</td>\n",
              "    </tr>\n",
              "    <tr>\n",
              "      <th>1</th>\n",
              "      <td>This guy who looks like a guy from a horror mo...</td>\n",
              "      <td>0</td>\n",
              "      <td>guy look like guy horror movi chase lot pl don...</td>\n",
              "      <td>guy look like guy horror movi chase lot pl don...</td>\n",
              "    </tr>\n",
              "    <tr>\n",
              "      <th>2</th>\n",
              "      <td>@FreshEquinox At this point, you are just #tro...</td>\n",
              "      <td>0</td>\n",
              "      <td>freshequinox point     troll   pleas go   tr...</td>\n",
              "      <td>fresh equinox point troll please go troll card...</td>\n",
              "    </tr>\n",
              "    <tr>\n",
              "      <th>3</th>\n",
              "      <td>RT @mmtchi: Comment ces #cybertroupes, financé...</td>\n",
              "      <td>20</td>\n",
              "      <td>rt   mmtchi   comment ce   cybertroup   financ...</td>\n",
              "      <td>RT mmtchi how this cybertroup financial by gov...</td>\n",
              "    </tr>\n",
              "    <tr>\n",
              "      <th>4</th>\n",
              "      <td>@TreMission @BigMonLike read my very next  twe...</td>\n",
              "      <td>0</td>\n",
              "      <td>tremiss   bigmonlik read next tweet post rig...</td>\n",
              "      <td>tremiss   bigmonlik read next tweet post right...</td>\n",
              "    </tr>\n",
              "    <tr>\n",
              "      <th>5</th>\n",
              "      <td>In NL hebben we op twitter naast leuke of info...</td>\n",
              "      <td>0</td>\n",
              "      <td>nl hebben op twitter naast leuk informatiev tw...</td>\n",
              "      <td>nl have on Twitter In addition to nice informa...</td>\n",
              "    </tr>\n",
              "    <tr>\n",
              "      <th>6</th>\n",
              "      <td>RT @RealGarbageFolk: BLOCKING\\n\\n#twitter #blo...</td>\n",
              "      <td>2</td>\n",
              "      <td>rt   realgarbagefolk   block   twitter   block...</td>\n",
              "      <td>rt   realgarbagefolk   block   twitter   block...</td>\n",
              "    </tr>\n",
              "    <tr>\n",
              "      <th>7</th>\n",
              "      <td>RT @mmtchi: Comment ces #cybertroupes, financé...</td>\n",
              "      <td>20</td>\n",
              "      <td>rt   mmtchi   comment ce   cybertroup   financ...</td>\n",
              "      <td>RT mmtchi how this cybertroup financial by gov...</td>\n",
              "    </tr>\n",
              "    <tr>\n",
              "      <th>8</th>\n",
              "      <td>The rugged adjustable RAM-108U RAM Mounts Trol...</td>\n",
              "      <td>0</td>\n",
              "      <td>rug adjust ram    u ram mount troll motor stab...</td>\n",
              "      <td>rug adjust ram    u ram mount troll motor stab...</td>\n",
              "    </tr>\n",
              "    <tr>\n",
              "      <th>9</th>\n",
              "      <td>@GeneGout @NieuwRechtsNL @thierrybaudet Goh en...</td>\n",
              "      <td>0</td>\n",
              "      <td>genegout   nieuwrechtsnl   thierrybaudet goh...</td>\n",
              "      <td>GENEGOUT NEW REGELSNL Thierrybaudet Goh and th...</td>\n",
              "    </tr>\n",
              "    <tr>\n",
              "      <th>10</th>\n",
              "      <td>RT @RealGarbageFolk: BLOCKING\\n\\n#twitter #blo...</td>\n",
              "      <td>2</td>\n",
              "      <td>rt   realgarbagefolk   block   twitter   block...</td>\n",
              "      <td>rt   realgarbagefolk   block   twitter   block...</td>\n",
              "    </tr>\n",
              "    <tr>\n",
              "      <th>11</th>\n",
              "      <td>BLOCKING\\n\\n#twitter #blocking #trolling #algo...</td>\n",
              "      <td>2</td>\n",
              "      <td>block   twitter   block   troll   algo   socia...</td>\n",
              "      <td>block   twitter   block   troll   algo   socia...</td>\n",
              "    </tr>\n",
              "    <tr>\n",
              "      <th>12</th>\n",
              "      <td>The 22-year-old's choice of outfit did not go ...</td>\n",
              "      <td>0</td>\n",
              "      <td>year old  s choic outfit go well social med...</td>\n",
              "      <td>year old  s choic outfit go well social media ...</td>\n",
              "    </tr>\n",
              "    <tr>\n",
              "      <th>13</th>\n",
              "      <td>इफ्तार पार्टीसाठी पूजा हेगडेनं केलेल्या लूकची ...</td>\n",
              "      <td>0</td>\n",
              "      <td>...</td>\n",
              "      <td>Hegdepoja Poojaheg Poojahegdeht POJA HEGEE BIG...</td>\n",
              "    </tr>\n",
              "    <tr>\n",
              "      <th>14</th>\n",
              "      <td>#trolling of #Arjuntendulkar is bad for him. L...</td>\n",
              "      <td>0</td>\n",
              "      <td>troll   arjuntendulkar bad   leav alon   let...</td>\n",
              "      <td>troll arjun tendulkar bad leav alon let grow m...</td>\n",
              "    </tr>\n",
              "    <tr>\n",
              "      <th>15</th>\n",
              "      <td>GUYS IS COMING IN SUMMER OF 2080 WITH NEW ACCE...</td>\n",
              "      <td>0</td>\n",
              "      <td>guy come summer      new accessori   shop rewo...</td>\n",
              "      <td>guy come summer      new accessori   shop rewo...</td>\n",
              "    </tr>\n",
              "    <tr>\n",
              "      <th>16</th>\n",
              "      <td>@MattWalshBlog Glad to hear @mattwalshblog adm...</td>\n",
              "      <td>0</td>\n",
              "      <td>mattwalshblog glad hear   mattwalshblog admi...</td>\n",
              "      <td>mattwalshblog glad hear mattwalshblog admit on...</td>\n",
              "    </tr>\n",
              "    <tr>\n",
              "      <th>17</th>\n",
              "      <td>@MrAndyNgo I don’t think he knows what the wor...</td>\n",
              "      <td>0</td>\n",
              "      <td>mrandyngo   think know word   fascist mean  ...</td>\n",
              "      <td>mrandyngo   think know word   fascist mean   o...</td>\n",
              "    </tr>\n",
              "    <tr>\n",
              "      <th>18</th>\n",
              "      <td>More camping fun! #gamer #gamergirl #trolling ...</td>\n",
              "      <td>0</td>\n",
              "      <td>camp fun     gamer   gamergirl   troll   troll...</td>\n",
              "      <td>camp fun     gamer   gamergirl   troll   troll...</td>\n",
              "    </tr>\n",
              "    <tr>\n",
              "      <th>19</th>\n",
              "      <td>@usaimarco87 Hören Sie auf Russo-Propaganda zu...</td>\n",
              "      <td>0</td>\n",
              "      <td>usaimarco   h ren sie auf russo propaganda z...</td>\n",
              "      <td>U.S.Imarco listen to Russo propaganda</td>\n",
              "    </tr>\n",
              "    <tr>\n",
              "      <th>20</th>\n",
              "      <td>How hard do you have to #trolling to get this ...</td>\n",
              "      <td>0</td>\n",
              "      <td>hard   troll get respons head pedo     lmfao  ...</td>\n",
              "      <td>hard   troll get respons head pedo     lmfao  ...</td>\n",
              "    </tr>\n",
              "    <tr>\n",
              "      <th>21</th>\n",
              "      <td>RT @OgidioluAfrika: @Arsenal How far with the ...</td>\n",
              "      <td>1</td>\n",
              "      <td>rt   ogidioluafrika     arsen far leagu challe...</td>\n",
              "      <td>RT Agidioluafrikrikrikrikrikrikrikrika The Cha...</td>\n",
              "    </tr>\n",
              "    <tr>\n",
              "      <th>22</th>\n",
              "      <td>@Arsenal How far with the league challenge? O ...</td>\n",
              "      <td>1</td>\n",
              "      <td>arsen far leagu challeng   ti lo   troll   a...</td>\n",
              "      <td>arsen far league challenge ti lo troll arsen n...</td>\n",
              "    </tr>\n",
              "    <tr>\n",
              "      <th>23</th>\n",
              "      <td>RT @mmtchi: Comment ces #cybertroupes, financé...</td>\n",
              "      <td>20</td>\n",
              "      <td>rt   mmtchi   comment ce   cybertroup   financ...</td>\n",
              "      <td>RT mmtchi how this cybertroup financial by gov...</td>\n",
              "    </tr>\n",
              "    <tr>\n",
              "      <th>24</th>\n",
              "      <td>RT @WTFisHalonCon: Come on down tomorrow to th...</td>\n",
              "      <td>2</td>\n",
              "      <td>rt   wtfishaloncon   come tomorrow     sarniap...</td>\n",
              "      <td>rt   wtfishaloncon   come tomorrow     sarniap...</td>\n",
              "    </tr>\n",
              "    <tr>\n",
              "      <th>25</th>\n",
              "      <td>RT @mmtchi: Comment ces #cybertroupes, financé...</td>\n",
              "      <td>20</td>\n",
              "      <td>rt   mmtchi   comment ce   cybertroup   financ...</td>\n",
              "      <td>RT mmtchi how this cybertroup financial by gov...</td>\n",
              "    </tr>\n",
              "    <tr>\n",
              "      <th>26</th>\n",
              "      <td>RT @CelinaJaitly: Untrue Gossip undresses,sham...</td>\n",
              "      <td>142</td>\n",
              "      <td>rt   celinajaitli   untru gossip undress   sha...</td>\n",
              "      <td>RT Celinajaitli Untru Gossiip Undress Shame am...</td>\n",
              "    </tr>\n",
              "    <tr>\n",
              "      <th>27</th>\n",
              "      <td>RT @BJ33882326: In support of @DonaldTrumpJr l...</td>\n",
              "      <td>14</td>\n",
              "      <td>rt   bj           support   donaldtrumpjr look...</td>\n",
              "      <td>rt   bj           support   donaldtrumpjr look...</td>\n",
              "    </tr>\n",
              "    <tr>\n",
              "      <th>28</th>\n",
              "      <td>@RReichstadt #Reichdtadt\\n#ConspiracyWatch\\n#F...</td>\n",
              "      <td>0</td>\n",
              "      <td>rreichstadt   reichdtadt   conspiracywatch  ...</td>\n",
              "      <td>rreichstadt   reichdtadt   conspiracywatch   f...</td>\n",
              "    </tr>\n",
              "    <tr>\n",
              "      <th>29</th>\n",
              "      <td>How is this possible??? LOL  🤣🤣🤣🤣\\n\\n#OnlyinBa...</td>\n",
              "      <td>0</td>\n",
              "      <td>possibl       lol        onlyinbattlefield   b...</td>\n",
              "      <td>possibl       lol        onlyinbattlefield   b...</td>\n",
              "    </tr>\n",
              "  </tbody>\n",
              "</table>\n",
              "</div>\n",
              "      <button class=\"colab-df-convert\" onclick=\"convertToInteractive('df-395b8f67-5978-46df-9b1a-ef4c331dae73')\"\n",
              "              title=\"Convert this dataframe to an interactive table.\"\n",
              "              style=\"display:none;\">\n",
              "        \n",
              "  <svg xmlns=\"http://www.w3.org/2000/svg\" height=\"24px\"viewBox=\"0 0 24 24\"\n",
              "       width=\"24px\">\n",
              "    <path d=\"M0 0h24v24H0V0z\" fill=\"none\"/>\n",
              "    <path d=\"M18.56 5.44l.94 2.06.94-2.06 2.06-.94-2.06-.94-.94-2.06-.94 2.06-2.06.94zm-11 1L8.5 8.5l.94-2.06 2.06-.94-2.06-.94L8.5 2.5l-.94 2.06-2.06.94zm10 10l.94 2.06.94-2.06 2.06-.94-2.06-.94-.94-2.06-.94 2.06-2.06.94z\"/><path d=\"M17.41 7.96l-1.37-1.37c-.4-.4-.92-.59-1.43-.59-.52 0-1.04.2-1.43.59L10.3 9.45l-7.72 7.72c-.78.78-.78 2.05 0 2.83L4 21.41c.39.39.9.59 1.41.59.51 0 1.02-.2 1.41-.59l7.78-7.78 2.81-2.81c.8-.78.8-2.07 0-2.86zM5.41 20L4 18.59l7.72-7.72 1.47 1.35L5.41 20z\"/>\n",
              "  </svg>\n",
              "      </button>\n",
              "      \n",
              "  <style>\n",
              "    .colab-df-container {\n",
              "      display:flex;\n",
              "      flex-wrap:wrap;\n",
              "      gap: 12px;\n",
              "    }\n",
              "\n",
              "    .colab-df-convert {\n",
              "      background-color: #E8F0FE;\n",
              "      border: none;\n",
              "      border-radius: 50%;\n",
              "      cursor: pointer;\n",
              "      display: none;\n",
              "      fill: #1967D2;\n",
              "      height: 32px;\n",
              "      padding: 0 0 0 0;\n",
              "      width: 32px;\n",
              "    }\n",
              "\n",
              "    .colab-df-convert:hover {\n",
              "      background-color: #E2EBFA;\n",
              "      box-shadow: 0px 1px 2px rgba(60, 64, 67, 0.3), 0px 1px 3px 1px rgba(60, 64, 67, 0.15);\n",
              "      fill: #174EA6;\n",
              "    }\n",
              "\n",
              "    [theme=dark] .colab-df-convert {\n",
              "      background-color: #3B4455;\n",
              "      fill: #D2E3FC;\n",
              "    }\n",
              "\n",
              "    [theme=dark] .colab-df-convert:hover {\n",
              "      background-color: #434B5C;\n",
              "      box-shadow: 0px 1px 3px 1px rgba(0, 0, 0, 0.15);\n",
              "      filter: drop-shadow(0px 1px 2px rgba(0, 0, 0, 0.3));\n",
              "      fill: #FFFFFF;\n",
              "    }\n",
              "  </style>\n",
              "\n",
              "      <script>\n",
              "        const buttonEl =\n",
              "          document.querySelector('#df-395b8f67-5978-46df-9b1a-ef4c331dae73 button.colab-df-convert');\n",
              "        buttonEl.style.display =\n",
              "          google.colab.kernel.accessAllowed ? 'block' : 'none';\n",
              "\n",
              "        async function convertToInteractive(key) {\n",
              "          const element = document.querySelector('#df-395b8f67-5978-46df-9b1a-ef4c331dae73');\n",
              "          const dataTable =\n",
              "            await google.colab.kernel.invokeFunction('convertToInteractive',\n",
              "                                                     [key], {});\n",
              "          if (!dataTable) return;\n",
              "\n",
              "          const docLinkHtml = 'Like what you see? Visit the ' +\n",
              "            '<a target=\"_blank\" href=https://colab.research.google.com/notebooks/data_table.ipynb>data table notebook</a>'\n",
              "            + ' to learn more about interactive tables.';\n",
              "          element.innerHTML = '';\n",
              "          dataTable['output_type'] = 'display_data';\n",
              "          await google.colab.output.renderOutput(dataTable, element);\n",
              "          const docLink = document.createElement('div');\n",
              "          docLink.innerHTML = docLinkHtml;\n",
              "          element.appendChild(docLink);\n",
              "        }\n",
              "      </script>\n",
              "    </div>\n",
              "  </div>\n",
              "  "
            ],
            "text/plain": [
              "                                               tweets  retweet_count  \\\n",
              "0   🔥Comin' in HOT!!🔥 Our \"Hydra Trolling Lure\" is...              0   \n",
              "1   This guy who looks like a guy from a horror mo...              0   \n",
              "2   @FreshEquinox At this point, you are just #tro...              0   \n",
              "3   RT @mmtchi: Comment ces #cybertroupes, financé...             20   \n",
              "4   @TreMission @BigMonLike read my very next  twe...              0   \n",
              "5   In NL hebben we op twitter naast leuke of info...              0   \n",
              "6   RT @RealGarbageFolk: BLOCKING\\n\\n#twitter #blo...              2   \n",
              "7   RT @mmtchi: Comment ces #cybertroupes, financé...             20   \n",
              "8   The rugged adjustable RAM-108U RAM Mounts Trol...              0   \n",
              "9   @GeneGout @NieuwRechtsNL @thierrybaudet Goh en...              0   \n",
              "10  RT @RealGarbageFolk: BLOCKING\\n\\n#twitter #blo...              2   \n",
              "11  BLOCKING\\n\\n#twitter #blocking #trolling #algo...              2   \n",
              "12  The 22-year-old's choice of outfit did not go ...              0   \n",
              "13  इफ्तार पार्टीसाठी पूजा हेगडेनं केलेल्या लूकची ...              0   \n",
              "14  #trolling of #Arjuntendulkar is bad for him. L...              0   \n",
              "15  GUYS IS COMING IN SUMMER OF 2080 WITH NEW ACCE...              0   \n",
              "16  @MattWalshBlog Glad to hear @mattwalshblog adm...              0   \n",
              "17  @MrAndyNgo I don’t think he knows what the wor...              0   \n",
              "18  More camping fun! #gamer #gamergirl #trolling ...              0   \n",
              "19  @usaimarco87 Hören Sie auf Russo-Propaganda zu...              0   \n",
              "20  How hard do you have to #trolling to get this ...              0   \n",
              "21  RT @OgidioluAfrika: @Arsenal How far with the ...              1   \n",
              "22  @Arsenal How far with the league challenge? O ...              1   \n",
              "23  RT @mmtchi: Comment ces #cybertroupes, financé...             20   \n",
              "24  RT @WTFisHalonCon: Come on down tomorrow to th...              2   \n",
              "25  RT @mmtchi: Comment ces #cybertroupes, financé...             20   \n",
              "26  RT @CelinaJaitly: Untrue Gossip undresses,sham...            142   \n",
              "27  RT @BJ33882326: In support of @DonaldTrumpJr l...             14   \n",
              "28  @RReichstadt #Reichdtadt\\n#ConspiracyWatch\\n#F...              0   \n",
              "29  How is this possible??? LOL  🤣🤣🤣🤣\\n\\n#OnlyinBa...              0   \n",
              "\n",
              "                                     processed_tweets  \\\n",
              "0    comin   hot          hydra troll lure    read...   \n",
              "1   guy look like guy horror movi chase lot pl don...   \n",
              "2     freshequinox point     troll   pleas go   tr...   \n",
              "3   rt   mmtchi   comment ce   cybertroup   financ...   \n",
              "4     tremiss   bigmonlik read next tweet post rig...   \n",
              "5   nl hebben op twitter naast leuk informatiev tw...   \n",
              "6   rt   realgarbagefolk   block   twitter   block...   \n",
              "7   rt   mmtchi   comment ce   cybertroup   financ...   \n",
              "8   rug adjust ram    u ram mount troll motor stab...   \n",
              "9     genegout   nieuwrechtsnl   thierrybaudet goh...   \n",
              "10  rt   realgarbagefolk   block   twitter   block...   \n",
              "11  block   twitter   block   troll   algo   socia...   \n",
              "12     year old  s choic outfit go well social med...   \n",
              "13                                                ...   \n",
              "14    troll   arjuntendulkar bad   leav alon   let...   \n",
              "15  guy come summer      new accessori   shop rewo...   \n",
              "16    mattwalshblog glad hear   mattwalshblog admi...   \n",
              "17    mrandyngo   think know word   fascist mean  ...   \n",
              "18  camp fun     gamer   gamergirl   troll   troll...   \n",
              "19    usaimarco   h ren sie auf russo propaganda z...   \n",
              "20  hard   troll get respons head pedo     lmfao  ...   \n",
              "21  rt   ogidioluafrika     arsen far leagu challe...   \n",
              "22    arsen far leagu challeng   ti lo   troll   a...   \n",
              "23  rt   mmtchi   comment ce   cybertroup   financ...   \n",
              "24  rt   wtfishaloncon   come tomorrow     sarniap...   \n",
              "25  rt   mmtchi   comment ce   cybertroup   financ...   \n",
              "26  rt   celinajaitli   untru gossip undress   sha...   \n",
              "27  rt   bj           support   donaldtrumpjr look...   \n",
              "28    rreichstadt   reichdtadt   conspiracywatch  ...   \n",
              "29  possibl       lol        onlyinbattlefield   b...   \n",
              "\n",
              "                                              English  \n",
              "0   comin   hot          hydra troll lure    readi...  \n",
              "1   guy look like guy horror movi chase lot pl don...  \n",
              "2   fresh equinox point troll please go troll card...  \n",
              "3   RT mmtchi how this cybertroup financial by gov...  \n",
              "4   tremiss   bigmonlik read next tweet post right...  \n",
              "5   nl have on Twitter In addition to nice informa...  \n",
              "6   rt   realgarbagefolk   block   twitter   block...  \n",
              "7   RT mmtchi how this cybertroup financial by gov...  \n",
              "8   rug adjust ram    u ram mount troll motor stab...  \n",
              "9   GENEGOUT NEW REGELSNL Thierrybaudet Goh and th...  \n",
              "10  rt   realgarbagefolk   block   twitter   block...  \n",
              "11  block   twitter   block   troll   algo   socia...  \n",
              "12  year old  s choic outfit go well social media ...  \n",
              "13  Hegdepoja Poojaheg Poojahegdeht POJA HEGEE BIG...  \n",
              "14  troll arjun tendulkar bad leav alon let grow m...  \n",
              "15  guy come summer      new accessori   shop rewo...  \n",
              "16  mattwalshblog glad hear mattwalshblog admit on...  \n",
              "17  mrandyngo   think know word   fascist mean   o...  \n",
              "18  camp fun     gamer   gamergirl   troll   troll...  \n",
              "19              U.S.Imarco listen to Russo propaganda  \n",
              "20  hard   troll get respons head pedo     lmfao  ...  \n",
              "21  RT Agidioluafrikrikrikrikrikrikrikrika The Cha...  \n",
              "22  arsen far league challenge ti lo troll arsen n...  \n",
              "23  RT mmtchi how this cybertroup financial by gov...  \n",
              "24  rt   wtfishaloncon   come tomorrow     sarniap...  \n",
              "25  RT mmtchi how this cybertroup financial by gov...  \n",
              "26  RT Celinajaitli Untru Gossiip Undress Shame am...  \n",
              "27  rt   bj           support   donaldtrumpjr look...  \n",
              "28  rreichstadt   reichdtadt   conspiracywatch   f...  \n",
              "29  possibl       lol        onlyinbattlefield   b...  "
            ]
          },
          "execution_count": 141,
          "metadata": {},
          "output_type": "execute_result"
        }
      ],
      "source": [
        "df['English'] = df['processed_tweets'][:50].apply(translator.translate,dest='en').apply(getattr,args=('text',))\n",
        "\n",
        "df.head(30)"
      ]
    },
    {
      "cell_type": "markdown",
      "metadata": {
        "id": "foq20CjhTx1X"
      },
      "source": [
        "### **All the data has been extracted in the same format and has been preprocessed by applying all the necessary preprocessing techniques for text data.**"
      ]
    }
  ],
  "metadata": {
    "colab": {
      "provenance": []
    },
    "kernelspec": {
      "display_name": "Python 3",
      "name": "python3"
    },
    "language_info": {
      "name": "python"
    }
  },
  "nbformat": 4,
  "nbformat_minor": 0
}
