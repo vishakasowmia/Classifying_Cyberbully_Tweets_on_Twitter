{
  "nbformat": 4,
  "nbformat_minor": 0,
  "metadata": {
    "colab": {
      "provenance": []
    },
    "kernelspec": {
      "name": "python3",
      "display_name": "Python 3"
    },
    "language_info": {
      "name": "python"
    }
  },
  "cells": [
    {
      "cell_type": "markdown",
      "source": [
        "# **CIA 3**\n",
        "\n",
        "## **Collecting/Scrapping data and Preprocessing**\n",
        "\n",
        "## **Team Members:**\n",
        "\n",
        "#### **M Madiha Farhana 2248041**\n",
        "#### **Sai Savya C 2248053**\n",
        "#### **Sowmia R 2248056**\n",
        "\n",
        "\n",
        "\n",
        "\n"
      ],
      "metadata": {
        "id": "qm92HlMssTXi"
      }
    },
    {
      "cell_type": "markdown",
      "source": [
        "**Installing `snscrape` to scrape data from social media platforms.\n",
        "In this case, we will use it to scrape data (tweets) from Twitter.**"
      ],
      "metadata": {
        "id": "xJJAIc1HuyMF"
      }
    },
    {
      "cell_type": "code",
      "source": [
        "pip install snscrape"
      ],
      "metadata": {
        "colab": {
          "base_uri": "https://localhost:8080/"
        },
        "id": "WcafWRGTuyw7",
        "outputId": "2dd42e35-deb4-4002-a0c8-e3fdc2f42092"
      },
      "execution_count": null,
      "outputs": [
        {
          "output_type": "stream",
          "name": "stdout",
          "text": [
            "Looking in indexes: https://pypi.org/simple, https://us-python.pkg.dev/colab-wheels/public/simple/\n",
            "Requirement already satisfied: snscrape in /usr/local/lib/python3.9/dist-packages (0.6.2.20230320)\n",
            "Requirement already satisfied: requests[socks] in /usr/local/lib/python3.9/dist-packages (from snscrape) (2.27.1)\n",
            "Requirement already satisfied: lxml in /usr/local/lib/python3.9/dist-packages (from snscrape) (4.9.2)\n",
            "Requirement already satisfied: filelock in /usr/local/lib/python3.9/dist-packages (from snscrape) (3.10.7)\n",
            "Requirement already satisfied: beautifulsoup4 in /usr/local/lib/python3.9/dist-packages (from snscrape) (4.11.2)\n",
            "Requirement already satisfied: soupsieve>1.2 in /usr/local/lib/python3.9/dist-packages (from beautifulsoup4->snscrape) (2.4)\n",
            "Requirement already satisfied: idna<4,>=2.5 in /usr/local/lib/python3.9/dist-packages (from requests[socks]->snscrape) (3.4)\n",
            "Requirement already satisfied: urllib3<1.27,>=1.21.1 in /usr/local/lib/python3.9/dist-packages (from requests[socks]->snscrape) (1.26.15)\n",
            "Requirement already satisfied: certifi>=2017.4.17 in /usr/local/lib/python3.9/dist-packages (from requests[socks]->snscrape) (2022.12.7)\n",
            "Requirement already satisfied: charset-normalizer~=2.0.0 in /usr/local/lib/python3.9/dist-packages (from requests[socks]->snscrape) (2.0.12)\n",
            "Requirement already satisfied: PySocks!=1.5.7,>=1.5.6 in /usr/local/lib/python3.9/dist-packages (from requests[socks]->snscrape) (1.7.1)\n"
          ]
        }
      ]
    },
    {
      "cell_type": "code",
      "source": [
        "import snscrape.modules.twitter as sntw\n",
        "import pandas as pd"
      ],
      "metadata": {
        "id": "B5driGCVGUSO"
      },
      "execution_count": null,
      "outputs": []
    },
    {
      "cell_type": "code",
      "source": [
        "\"\"\"query = \"mental health\"\n",
        "tweets = []\n",
        "limit = 100\n",
        "\n",
        "for tweet in sntw.TwitterSearchScraper(query).get_items():\n",
        "  #print(vars(tweet))\n",
        "  #break\n",
        "\n",
        "  if len(tweets) == limit:\n",
        "    break\n",
        "  else:\n",
        "    tweets.append([tweet.date, tweet.username, tweet.content])\"\"\""
      ],
      "metadata": {
        "colab": {
          "base_uri": "https://localhost:8080/",
          "height": 53
        },
        "id": "2GXDdVb2GuVl",
        "outputId": "7fd63b5b-e994-43ae-995a-4eff24ed9c0a"
      },
      "execution_count": null,
      "outputs": [
        {
          "output_type": "execute_result",
          "data": {
            "text/plain": [
              "'query = \"mental health\"\\ntweets = []\\nlimit = 100\\n\\nfor tweet in sntw.TwitterSearchScraper(query).get_items():\\n  #print(vars(tweet))\\n  #break\\n\\n  if len(tweets) == limit:\\n    break\\n  else:\\n    tweets.append([tweet.date, tweet.username, tweet.content])'"
            ],
            "application/vnd.google.colaboratory.intrinsic+json": {
              "type": "string"
            }
          },
          "metadata": {},
          "execution_count": 49
        }
      ]
    },
    {
      "cell_type": "code",
      "source": [
        "#df = pd.DataFrame(tweets, columns = ['Date', 'User', 'Tweet'])\n",
        "#df"
      ],
      "metadata": {
        "id": "3cRPB0REHZCw"
      },
      "execution_count": null,
      "outputs": []
    },
    {
      "cell_type": "code",
      "source": [
        "\"\"\"query = \"(from:TauTixo) until:2022-03-31 since:2006-01-01\"\n",
        "tweets = []\n",
        "limit = 1000\n",
        "\n",
        "for tweet in sntw.TwitterSearchScraper(query).get_items():\n",
        "  #print(vars(tweet))\n",
        "  #break\n",
        "\n",
        "  if len(tweets) == limit:\n",
        "    break\n",
        "  else:\n",
        "    tweets.append([tweet.date, tweet.username, tweet.content])\"\"\""
      ],
      "metadata": {
        "colab": {
          "base_uri": "https://localhost:8080/",
          "height": 53
        },
        "id": "UnSq2E5OI7Ln",
        "outputId": "bfd4fc87-9fb9-4641-c0d6-4a496b4fca75"
      },
      "execution_count": null,
      "outputs": [
        {
          "output_type": "execute_result",
          "data": {
            "text/plain": [
              "'query = \"(from:TauTixo) until:2022-03-31 since:2006-01-01\"\\ntweets = []\\nlimit = 1000\\n\\nfor tweet in sntw.TwitterSearchScraper(query).get_items():\\n  #print(vars(tweet))\\n  #break\\n\\n  if len(tweets) == limit:\\n    break\\n  else:\\n    tweets.append([tweet.date, tweet.username, tweet.content])'"
            ],
            "application/vnd.google.colaboratory.intrinsic+json": {
              "type": "string"
            }
          },
          "metadata": {},
          "execution_count": 51
        }
      ]
    },
    {
      "cell_type": "code",
      "source": [
        "#df = pd.DataFrame(tweets, columns = ['Date', 'User', 'Tweet'])\n",
        "#df"
      ],
      "metadata": {
        "id": "HK_3yNWpITT8"
      },
      "execution_count": null,
      "outputs": []
    },
    {
      "cell_type": "markdown",
      "source": [
        "Now, we provide a query in the form of the keyword we want. Here, we give it as `stop bullying` to pull out tweets from the user `@StopWebBullying` for the specified time stamps.\n",
        "\n",
        "We specify the limit of the tweets to be pulled as `1000`.\n",
        "\n",
        "After retrieving the tweets, we will store the data into a pandas dataframe with columns as `Date`, `User`, `Tweet`."
      ],
      "metadata": {
        "id": "HfgDVXdZvHMU"
      }
    },
    {
      "cell_type": "code",
      "source": [
        "query = \"stop bullying (from:StopWebBullying) until:2020-02-29 since:2011-01-01\"\n",
        "tweets = []\n",
        "limit = 1000\n",
        "\n",
        "for tweet in sntw.TwitterSearchScraper(query).get_items():\n",
        "  #print(vars(tweet))\n",
        "  #break\n",
        "\n",
        "  if len(tweets) == limit:\n",
        "    break\n",
        "  else:\n",
        "    tweets.append([tweet.date, tweet.username, tweet.content])\n",
        "\n",
        "\n",
        "\n",
        "df = pd.DataFrame(tweets, columns = ['Date', 'User', 'Tweet'])\n",
        "df"
      ],
      "metadata": {
        "colab": {
          "base_uri": "https://localhost:8080/",
          "height": 493
        },
        "id": "DaJqtvg0J6Vn",
        "outputId": "d0b9c708-66f2-4165-e92b-849247141b79"
      },
      "execution_count": null,
      "outputs": [
        {
          "output_type": "stream",
          "name": "stderr",
          "text": [
            "<ipython-input-53-51dd00a50dda>:12: DeprecatedFeatureWarning: username is deprecated, use user.username instead\n",
            "  tweets.append([tweet.date, tweet.username, tweet.content])\n",
            "<ipython-input-53-51dd00a50dda>:12: DeprecatedFeatureWarning: content is deprecated, use rawContent instead\n",
            "  tweets.append([tweet.date, tweet.username, tweet.content])\n"
          ]
        },
        {
          "output_type": "execute_result",
          "data": {
            "text/plain": [
              "                         Date             User  \\\n",
              "0   2017-08-15 07:32:37+00:00  StopWebBullying   \n",
              "1   2017-07-23 21:41:09+00:00  StopWebBullying   \n",
              "2   2017-07-10 09:11:06+00:00  StopWebBullying   \n",
              "3   2017-06-06 01:40:08+00:00  StopWebBullying   \n",
              "4   2017-05-10 16:21:09+00:00  StopWebBullying   \n",
              "..                        ...              ...   \n",
              "125 2011-08-09 10:56:20+00:00  StopWebBullying   \n",
              "126 2011-07-21 22:32:25+00:00  StopWebBullying   \n",
              "127 2011-07-17 23:29:37+00:00  StopWebBullying   \n",
              "128 2011-06-13 18:11:36+00:00  StopWebBullying   \n",
              "129 2011-05-22 07:23:47+00:00  StopWebBullying   \n",
              "\n",
              "                                                 Tweet  \n",
              "0    Sarahah Needs To Stop Before Someone Seriously...  \n",
              "1    Help victims, witnesses stop cyber bullying - ...  \n",
              "2    Be Nice Bus calls for stop to cyber bullying -...  \n",
              "3    Stop The Cyber Bullying Monster From Troubling...  \n",
              "4    Ileana D'Cruz urges trolls to stop cyber bully...  \n",
              "..                                                 ...  \n",
              "125  How To Spot, Stop Bullying - msnbc.com: you sh...  \n",
              "126  Aussies mull classes to stop cyber-bullying - ...  \n",
              "127  Facebook school bid to stop bullying - Gold Co...  \n",
              "128  MILAN: Students rally to stop cyber bullying -...  \n",
              "129  Tenants want landlord to stop bullying on play...  \n",
              "\n",
              "[130 rows x 3 columns]"
            ],
            "text/html": [
              "\n",
              "  <div id=\"df-d9082fbd-46ab-49b2-aab9-5745bb24fb19\">\n",
              "    <div class=\"colab-df-container\">\n",
              "      <div>\n",
              "<style scoped>\n",
              "    .dataframe tbody tr th:only-of-type {\n",
              "        vertical-align: middle;\n",
              "    }\n",
              "\n",
              "    .dataframe tbody tr th {\n",
              "        vertical-align: top;\n",
              "    }\n",
              "\n",
              "    .dataframe thead th {\n",
              "        text-align: right;\n",
              "    }\n",
              "</style>\n",
              "<table border=\"1\" class=\"dataframe\">\n",
              "  <thead>\n",
              "    <tr style=\"text-align: right;\">\n",
              "      <th></th>\n",
              "      <th>Date</th>\n",
              "      <th>User</th>\n",
              "      <th>Tweet</th>\n",
              "    </tr>\n",
              "  </thead>\n",
              "  <tbody>\n",
              "    <tr>\n",
              "      <th>0</th>\n",
              "      <td>2017-08-15 07:32:37+00:00</td>\n",
              "      <td>StopWebBullying</td>\n",
              "      <td>Sarahah Needs To Stop Before Someone Seriously...</td>\n",
              "    </tr>\n",
              "    <tr>\n",
              "      <th>1</th>\n",
              "      <td>2017-07-23 21:41:09+00:00</td>\n",
              "      <td>StopWebBullying</td>\n",
              "      <td>Help victims, witnesses stop cyber bullying - ...</td>\n",
              "    </tr>\n",
              "    <tr>\n",
              "      <th>2</th>\n",
              "      <td>2017-07-10 09:11:06+00:00</td>\n",
              "      <td>StopWebBullying</td>\n",
              "      <td>Be Nice Bus calls for stop to cyber bullying -...</td>\n",
              "    </tr>\n",
              "    <tr>\n",
              "      <th>3</th>\n",
              "      <td>2017-06-06 01:40:08+00:00</td>\n",
              "      <td>StopWebBullying</td>\n",
              "      <td>Stop The Cyber Bullying Monster From Troubling...</td>\n",
              "    </tr>\n",
              "    <tr>\n",
              "      <th>4</th>\n",
              "      <td>2017-05-10 16:21:09+00:00</td>\n",
              "      <td>StopWebBullying</td>\n",
              "      <td>Ileana D'Cruz urges trolls to stop cyber bully...</td>\n",
              "    </tr>\n",
              "    <tr>\n",
              "      <th>...</th>\n",
              "      <td>...</td>\n",
              "      <td>...</td>\n",
              "      <td>...</td>\n",
              "    </tr>\n",
              "    <tr>\n",
              "      <th>125</th>\n",
              "      <td>2011-08-09 10:56:20+00:00</td>\n",
              "      <td>StopWebBullying</td>\n",
              "      <td>How To Spot, Stop Bullying - msnbc.com: you sh...</td>\n",
              "    </tr>\n",
              "    <tr>\n",
              "      <th>126</th>\n",
              "      <td>2011-07-21 22:32:25+00:00</td>\n",
              "      <td>StopWebBullying</td>\n",
              "      <td>Aussies mull classes to stop cyber-bullying - ...</td>\n",
              "    </tr>\n",
              "    <tr>\n",
              "      <th>127</th>\n",
              "      <td>2011-07-17 23:29:37+00:00</td>\n",
              "      <td>StopWebBullying</td>\n",
              "      <td>Facebook school bid to stop bullying - Gold Co...</td>\n",
              "    </tr>\n",
              "    <tr>\n",
              "      <th>128</th>\n",
              "      <td>2011-06-13 18:11:36+00:00</td>\n",
              "      <td>StopWebBullying</td>\n",
              "      <td>MILAN: Students rally to stop cyber bullying -...</td>\n",
              "    </tr>\n",
              "    <tr>\n",
              "      <th>129</th>\n",
              "      <td>2011-05-22 07:23:47+00:00</td>\n",
              "      <td>StopWebBullying</td>\n",
              "      <td>Tenants want landlord to stop bullying on play...</td>\n",
              "    </tr>\n",
              "  </tbody>\n",
              "</table>\n",
              "<p>130 rows × 3 columns</p>\n",
              "</div>\n",
              "      <button class=\"colab-df-convert\" onclick=\"convertToInteractive('df-d9082fbd-46ab-49b2-aab9-5745bb24fb19')\"\n",
              "              title=\"Convert this dataframe to an interactive table.\"\n",
              "              style=\"display:none;\">\n",
              "        \n",
              "  <svg xmlns=\"http://www.w3.org/2000/svg\" height=\"24px\"viewBox=\"0 0 24 24\"\n",
              "       width=\"24px\">\n",
              "    <path d=\"M0 0h24v24H0V0z\" fill=\"none\"/>\n",
              "    <path d=\"M18.56 5.44l.94 2.06.94-2.06 2.06-.94-2.06-.94-.94-2.06-.94 2.06-2.06.94zm-11 1L8.5 8.5l.94-2.06 2.06-.94-2.06-.94L8.5 2.5l-.94 2.06-2.06.94zm10 10l.94 2.06.94-2.06 2.06-.94-2.06-.94-.94-2.06-.94 2.06-2.06.94z\"/><path d=\"M17.41 7.96l-1.37-1.37c-.4-.4-.92-.59-1.43-.59-.52 0-1.04.2-1.43.59L10.3 9.45l-7.72 7.72c-.78.78-.78 2.05 0 2.83L4 21.41c.39.39.9.59 1.41.59.51 0 1.02-.2 1.41-.59l7.78-7.78 2.81-2.81c.8-.78.8-2.07 0-2.86zM5.41 20L4 18.59l7.72-7.72 1.47 1.35L5.41 20z\"/>\n",
              "  </svg>\n",
              "      </button>\n",
              "      \n",
              "  <style>\n",
              "    .colab-df-container {\n",
              "      display:flex;\n",
              "      flex-wrap:wrap;\n",
              "      gap: 12px;\n",
              "    }\n",
              "\n",
              "    .colab-df-convert {\n",
              "      background-color: #E8F0FE;\n",
              "      border: none;\n",
              "      border-radius: 50%;\n",
              "      cursor: pointer;\n",
              "      display: none;\n",
              "      fill: #1967D2;\n",
              "      height: 32px;\n",
              "      padding: 0 0 0 0;\n",
              "      width: 32px;\n",
              "    }\n",
              "\n",
              "    .colab-df-convert:hover {\n",
              "      background-color: #E2EBFA;\n",
              "      box-shadow: 0px 1px 2px rgba(60, 64, 67, 0.3), 0px 1px 3px 1px rgba(60, 64, 67, 0.15);\n",
              "      fill: #174EA6;\n",
              "    }\n",
              "\n",
              "    [theme=dark] .colab-df-convert {\n",
              "      background-color: #3B4455;\n",
              "      fill: #D2E3FC;\n",
              "    }\n",
              "\n",
              "    [theme=dark] .colab-df-convert:hover {\n",
              "      background-color: #434B5C;\n",
              "      box-shadow: 0px 1px 3px 1px rgba(0, 0, 0, 0.15);\n",
              "      filter: drop-shadow(0px 1px 2px rgba(0, 0, 0, 0.3));\n",
              "      fill: #FFFFFF;\n",
              "    }\n",
              "  </style>\n",
              "\n",
              "      <script>\n",
              "        const buttonEl =\n",
              "          document.querySelector('#df-d9082fbd-46ab-49b2-aab9-5745bb24fb19 button.colab-df-convert');\n",
              "        buttonEl.style.display =\n",
              "          google.colab.kernel.accessAllowed ? 'block' : 'none';\n",
              "\n",
              "        async function convertToInteractive(key) {\n",
              "          const element = document.querySelector('#df-d9082fbd-46ab-49b2-aab9-5745bb24fb19');\n",
              "          const dataTable =\n",
              "            await google.colab.kernel.invokeFunction('convertToInteractive',\n",
              "                                                     [key], {});\n",
              "          if (!dataTable) return;\n",
              "\n",
              "          const docLinkHtml = 'Like what you see? Visit the ' +\n",
              "            '<a target=\"_blank\" href=https://colab.research.google.com/notebooks/data_table.ipynb>data table notebook</a>'\n",
              "            + ' to learn more about interactive tables.';\n",
              "          element.innerHTML = '';\n",
              "          dataTable['output_type'] = 'display_data';\n",
              "          await google.colab.output.renderOutput(dataTable, element);\n",
              "          const docLink = document.createElement('div');\n",
              "          docLink.innerHTML = docLinkHtml;\n",
              "          element.appendChild(docLink);\n",
              "        }\n",
              "      </script>\n",
              "    </div>\n",
              "  </div>\n",
              "  "
            ]
          },
          "metadata": {},
          "execution_count": 53
        }
      ]
    },
    {
      "cell_type": "markdown",
      "source": [
        "After the tweets are retrieved, we store it into .csv file named as `tweets.csv`."
      ],
      "metadata": {
        "id": "o5uWyLbkv5Ap"
      }
    },
    {
      "cell_type": "code",
      "source": [
        "from google.colab import drive\n",
        "drive.mount(\"/content/gdrive\")\n",
        "\n",
        "df.to_csv('/content/gdrive/My Drive/tweets.csv', index = False)"
      ],
      "metadata": {
        "id": "UhpYzPAxKpkQ",
        "colab": {
          "base_uri": "https://localhost:8080/"
        },
        "outputId": "08169be4-5cf9-4dd3-fe81-b1c72adb650a"
      },
      "execution_count": null,
      "outputs": [
        {
          "output_type": "stream",
          "name": "stdout",
          "text": [
            "Drive already mounted at /content/gdrive; to attempt to forcibly remount, call drive.mount(\"/content/gdrive\", force_remount=True).\n"
          ]
        }
      ]
    },
    {
      "cell_type": "markdown",
      "source": [
        "## **Preprocessing**"
      ],
      "metadata": {
        "id": "fxLWMQaunHn1"
      }
    },
    {
      "cell_type": "markdown",
      "source": [
        "Importing the `nltk` library to perform some of the following tasks for the column `Tweet`:\n",
        "\n",
        "1. **Tokenization**: To split the text into words or sentences.\n",
        "2. **Converting all the text into lowercase**.\n",
        "3. **Removing Stop Words**: To remove words such as 'the', 'a',, etc. which do not carry much meaning.\n",
        "4. **Stemming/Lemmatizatizing**: To reduce words to their root form.\n",
        "5. **Removing special characters**\n",
        "6. **Removing numbers and punctuations**"
      ],
      "metadata": {
        "id": "iUSWBG8owTLQ"
      }
    },
    {
      "cell_type": "code",
      "source": [
        "from nltk import*\n",
        "import re\n",
        "nltk.download('stopwords')"
      ],
      "metadata": {
        "colab": {
          "base_uri": "https://localhost:8080/"
        },
        "id": "fCXKFeF6m0d-",
        "outputId": "e444b2c6-9971-4e00-a9d2-29188b3650c4"
      },
      "execution_count": null,
      "outputs": [
        {
          "output_type": "stream",
          "name": "stderr",
          "text": [
            "[nltk_data] Downloading package stopwords to /root/nltk_data...\n",
            "[nltk_data]   Package stopwords is already up-to-date!\n"
          ]
        },
        {
          "output_type": "execute_result",
          "data": {
            "text/plain": [
              "True"
            ]
          },
          "metadata": {},
          "execution_count": 56
        }
      ]
    },
    {
      "cell_type": "code",
      "source": [
        "# definig a function to perform all the tasks mentioned above:\n",
        "\n",
        "def preprocessing_tweet(tweet):\n",
        "\n",
        "  # coverting text to lowercase\n",
        "\n",
        "  tweet = tweet.lower()\n",
        "\n",
        "  # tokenizing the sentences\n",
        "\n",
        "  tokens = nltk.word_tokenize(tweet)\n",
        "\n",
        "  # removing the stop words\n",
        "\n",
        "  stop_words = set(nltk.corpus.stopwords.words('english'))\n",
        "  filtered_tokens = [token for token in tokens if token not in stop_words]\n",
        "\n",
        "  # Stemming the words to reduce them to root form\n",
        "\n",
        "  porter = nltk.PorterStemmer()\n",
        "  stemmed_tokens = [porter.stem(token) for token in filtered_tokens]\n",
        "\n",
        "  # joining the preprocessed text\n",
        "\n",
        "  processed_tweet = ' '.join(re.sub(\"[^a-zA-Z]\", \" \", token) for token in stemmed_tokens)\n",
        "\n",
        "  return processed_tweet"
      ],
      "metadata": {
        "id": "2Ty2Ji7EnOc5"
      },
      "execution_count": null,
      "outputs": []
    },
    {
      "cell_type": "code",
      "source": [
        "# storing the preprocessed tweets\n",
        "\n",
        "df['processed_tweets'] = df['Tweet'].apply(preprocessing_tweet)\n",
        "\n",
        "print(df['processed_tweets'])"
      ],
      "metadata": {
        "colab": {
          "base_uri": "https://localhost:8080/"
        },
        "id": "PDU3i6Vcoazc",
        "outputId": "7ba55b95-f635-43dc-f970-82bf118f0bd6"
      },
      "execution_count": null,
      "outputs": [
        {
          "output_type": "stream",
          "name": "stdout",
          "text": [
            "0      sarahah need stop someon serious fall victim c...\n",
            "1      help victim   wit stop cyber bulli   strait ti...\n",
            "2      nice bu call stop cyber bulli   oxfordshir gua...\n",
            "3      stop cyber bulli monster troubl child   good h...\n",
            "4      ileana d cruz urg troll stop cyber bulli   oye...\n",
            "                             ...                        \n",
            "125    spot   stop bulli   msnbc com     critic child...\n",
            "126    aussi mull class stop cyber bulli   todayonlin...\n",
            "127    facebook school bid stop bulli   gold coast ne...\n",
            "128    milan   student ralli stop cyber bulli   herit...\n",
            "129    tenant want landlord stop bulli play yard   ch...\n",
            "Name: processed_tweets, Length: 130, dtype: object\n"
          ]
        }
      ]
    }
  ]
}